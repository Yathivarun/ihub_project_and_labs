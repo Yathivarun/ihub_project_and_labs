Project Goal: To analyze user data and predict whether a customer would subscribe to a service.

Data Preparation: The first step was to merge two different user data files and convert text-based information (like city and gender) into numbers so the prediction models could work with it.

Models Tested: Five different classification models were used to find the best predictor: Logistic Regression, SVM, Decision Tree, Random Forest, and Gradient Boosting.

Top Performing Models: The Random Forest and Gradient Boosting models were the most successful, both achieving around 99% accuracy in predicting which customers would subscribe.

Key Takeaway: For this type of user behavior prediction, the more advanced models (Random Forest and Gradient Boosting) performed significantly better than the simpler ones.
